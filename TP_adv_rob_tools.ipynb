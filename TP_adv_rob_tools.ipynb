{
 "cells": [
  {
   "cell_type": "code",
   "execution_count": 40,
   "metadata": {},
   "outputs": [],
   "source": [
    "import torch\n",
    "import torchvision.datasets as dset\n",
    "import torchvision.transforms as transforms\n",
    "import torch.nn.functional as F\n",
    "import torch.nn as nn\n",
    "from torch import nn, optim, no_grad\n",
    "from sklearn import datasets\n",
    "import numpy as np\n",
    "from time import time\n",
    "import os\n",
    "\n",
    "torch.set_default_tensor_type(torch.DoubleTensor)"
   ]
  },
  {
   "cell_type": "markdown",
   "metadata": {},
   "source": [
    "## Dataset"
   ]
  },
  {
   "cell_type": "code",
   "execution_count": 41,
   "metadata": {},
   "outputs": [],
   "source": [
    "# We specify the location of the data to load and the transformation to apply to the data\n",
    "_root = \"./data\"\n",
    "_trans = transforms.Compose(\n",
    "    [\n",
    "        transforms.ToTensor(),\n",
    "        transforms.Normalize((0.0,), (1.0,)),\n",
    "    ]\n",
    ")\n",
    "# Now the data will be in the scale [0,1]"
   ]
  },
  {
   "cell_type": "code",
   "execution_count": 42,
   "metadata": {},
   "outputs": [],
   "source": [
    "# Load the data! We use MNIST\n",
    "train_dataset = dset.MNIST(root=_root, train=True, transform=_trans, download=True)\n",
    "test_and_val_dataset = dset.MNIST(root=_root, train=False, transform=_trans, download=True)\n",
    "\n",
    "# Now we separate the \"test and val\" dataset between validation and test datasets\n",
    "val_dataset = list()\n",
    "test_dataset = list()\n",
    "validation_size = 1000\n",
    "for i, x in enumerate(test_and_val_dataset):\n",
    "    if i < validation_size:\n",
    "        val_dataset.append(x)\n",
    "    else:\n",
    "        test_dataset.append(x)"
   ]
  },
  {
   "cell_type": "code",
   "execution_count": 43,
   "metadata": {},
   "outputs": [],
   "source": [
    "# Create the loaders\n",
    "train_loader = torch.utils.data.DataLoader(dataset=train_dataset, batch_size=128, shuffle=True)\n",
    "test_loader = torch.utils.data.DataLoader(dataset=test_dataset, shuffle=True, batch_size=1)\n",
    "val_loader = torch.utils.data.DataLoader(dataset=val_dataset, batch_size=1000, shuffle=True)"
   ]
  },
  {
   "cell_type": "markdown",
   "metadata": {},
   "source": [
    "## Models"
   ]
  },
  {
   "cell_type": "code",
   "execution_count": 44,
   "metadata": {},
   "outputs": [],
   "source": [
    "# We define a MNIST LeNet model\n",
    "class LeNet(nn.Module):\n",
    "    def __init__(self):\n",
    "        super(LeNet, self).__init__()\n",
    "        self.conv1 = nn.Conv2d(1, 10, kernel_size=5)\n",
    "        self.conv2 = nn.Conv2d(10, 20, kernel_size=5)\n",
    "        self.conv2_drop = nn.Dropout2d()\n",
    "        self.fc1 = nn.Linear(320, 50)\n",
    "        self.fc2 = nn.Linear(50, 10)\n",
    "\n",
    "    def forward(self, x):\n",
    "        #x = x.view(-1, 1, 28 * 28)\n",
    "        x = F.relu(F.max_pool2d(self.conv1(x), 2))\n",
    "        x = F.relu(F.max_pool2d(self.conv2_drop(self.conv2(x)), 2))\n",
    "        x = x.view(-1, 320)\n",
    "        x = F.relu(self.fc1(x))\n",
    "        x = F.dropout(x, training=self.training)\n",
    "        x = self.fc2(x)\n",
    "        return F.log_softmax(x)"
   ]
  },
  {
   "cell_type": "markdown",
   "metadata": {},
   "source": [
    "## Training"
   ]
  },
  {
   "cell_type": "code",
   "execution_count": 53,
   "metadata": {},
   "outputs": [],
   "source": [
    "def compute_accuracy(model, loader):\n",
    "    correct = 0\n",
    "    model.eval()\n",
    "    with no_grad():\n",
    "        for data, target in loader:\n",
    "            data = data.double()\n",
    "            output = model(data)\n",
    "            pred = output.argmax(dim=1, keepdim=True)\n",
    "            correct += pred.eq(target.view_as(pred)).sum().item()\n",
    "    acc = correct / len(loader.dataset)\n",
    "    return acc\n",
    "\n",
    "def train_network(model, train_loader, val_loader, loss_func, epochs, adv=False):\n",
    "    lr = 0.001\n",
    "    patience = 20\n",
    "    optimizer = optim.Adam(model.parameters(), lr=lr, betas=(0.9, 0.99))\n",
    "    scheduler = optim.lr_scheduler.ReduceLROnPlateau(optimizer, mode=\"min\", patience=patience, verbose=True, factor=0.5)\n",
    "    \n",
    "    loss_history = []\n",
    "    t = time()\n",
    "    for epoch in range(epochs):\n",
    "        print(f\"Starting epoch {epoch} ({time()-t} secs) and lr = {[param['lr'] for param in optimizer.param_groups]}\")\n",
    "        t = time()\n",
    "        \n",
    "        for x, y in train_loader:\n",
    "            x = x.double()\n",
    "            optimizer.zero_grad()\n",
    "            y_pred = model(x)\n",
    "            loss = loss_func(y_pred, y)\n",
    "            loss.backward()\n",
    "            optimizer.step()\n",
    "        \n",
    "        for x_val, y_val in val_loader:\n",
    "            x_val = x_val.double()\n",
    "            y_val_pred = model(x_val)\n",
    "            val_loss = loss_func(y_val_pred, y_val)\n",
    "            print(f\"Validation loss = {np.around(val_loss.item(), decimals=4)}\")\n",
    "            loss_history.append(val_loss.item())\n",
    "        scheduler.step(val_loss)\n",
    "        \n",
    "        if epoch % 10 == 9:\n",
    "            print(f\"Validation accuracy = {compute_accuracy(model, val_loader)}\")\n",
    "    \n",
    "    return model, loss_history\n",
    "\n",
    "def get_deep_model(epochs, path=None, adv=False):\n",
    "    loss_func = nn.CrossEntropyLoss()\n",
    "    if adv=False:\n",
    "        adv_message = \"\"\n",
    "    else:\n",
    "        adv_message = \"_adv_training\"\n",
    "    if path == None:\n",
    "        model_path = os.getcwd()+\"/trained_models\"+\"/MNIST_LeNet_\"+str(epochs)+\"_epochs\"+adv_message+\".model\"\n",
    "    else:\n",
    "        model_path = path\n",
    "    if not os.path.exists(os.getcwd()+\"/trained_models\"):\n",
    "        os.mkdir(os.getcwd()+\"/trained_models\")\n",
    "    try:\n",
    "        model = torch.load(model_path)\n",
    "        print(f\"Successfully loaded {model_path}\")\n",
    "    except:\n",
    "        print(f\"Retraining {model_path}\")\n",
    "        model = LeNet()\n",
    "        model, loss_history = train_network(model, train_loader, val_loader, loss_func, epochs, adv)\n",
    "        torch.save(model, model_path)\n",
    "    print(f\"Test accuracy = {compute_accuracy(model, test_loader)}\")\n",
    "    \n",
    "    return model"
   ]
  },
  {
   "cell_type": "code",
   "execution_count": 54,
   "metadata": {},
   "outputs": [
    {
     "name": "stdout",
     "output_type": "stream",
     "text": [
      "Successfully loaded /Users/m.goibert/Documents/Criteo/TP_adv_Robustness/trained_models/MNIST_LeNet_11_epochs.model\n"
     ]
    },
    {
     "name": "stderr",
     "output_type": "stream",
     "text": [
      "<ipython-input-44-0b41f8b9508c>:19: UserWarning: Implicit dimension choice for log_softmax has been deprecated. Change the call to include dim=X as an argument.\n",
      "  return F.log_softmax(x)\n"
     ]
    },
    {
     "name": "stdout",
     "output_type": "stream",
     "text": [
      "Test accuracy = 0.9898888888888889\n"
     ]
    }
   ],
   "source": [
    "model = get_deep_model(11)"
   ]
  }
 ],
 "metadata": {
  "kernelspec": {
   "display_name": "Python 3",
   "language": "python",
   "name": "python3"
  },
  "language_info": {
   "codemirror_mode": {
    "name": "ipython",
    "version": 3
   },
   "file_extension": ".py",
   "mimetype": "text/x-python",
   "name": "python",
   "nbconvert_exporter": "python",
   "pygments_lexer": "ipython3",
   "version": "3.8.3"
  }
 },
 "nbformat": 4,
 "nbformat_minor": 4
}
